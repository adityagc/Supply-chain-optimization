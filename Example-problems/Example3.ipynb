{
 "cells": [
  {
   "cell_type": "markdown",
   "metadata": {},
   "source": [
    "# Global Sequence MIP Formulation (M1* formulation in paper)"
   ]
  },
  {
   "cell_type": "markdown",
   "metadata": {},
   "source": [
    "## Model Declaration and Data Input (Example 3)"
   ]
  },
  {
   "cell_type": "code",
   "execution_count": 1,
   "metadata": {},
   "outputs": [],
   "source": [
    "from pyomo import environ as pe\n",
    "from math import ceil\n",
    "model = pe.ConcreteModel(name='Global Sequence MIP Formulation')"
   ]
  },
  {
   "cell_type": "code",
   "execution_count": 2,
   "metadata": {},
   "outputs": [],
   "source": [
    "data_object = None\n",
    "try:\n",
    "    data_object  = open('Example3.dat', 'w')\n",
    "    data_object.write('''\n",
    "    \n",
    "table I={I} q(I) r(I) d(I):\n",
    "      I     q    r    d   :=\n",
    "      A     80   20   50\n",
    "      B     50   5    30\n",
    "      C     30   0    20\n",
    "      D     105  25   60\n",
    "      E     70   0    40\n",
    "      F     40   0    30\n",
    "      G     105  30   60\n",
    "      H     20   0    20\n",
    "      I     20   20   80\n",
    "      J     20   40   80\n",
    "      K     20   40   70\n",
    "      L     20   30   70  ;\n",
    "\n",
    "set K := K1 K2;\n",
    "\n",
    "table J={J}  Jk={J,K}  b_min(J)  b_max(J):\n",
    "      J      K         b_min     b_max   :=\n",
    "      J1     K1        10        25\n",
    "      J2     K1        10        25\n",
    "      J3     K1        15        30\n",
    "      J4     K2        10        25\n",
    "      J5     K2        15        30\n",
    "      J6     K2        10        25;\n",
    "\n",
    "set JF := (A,J1);\n",
    "set FP := (J1,J6) (J2,J5);\n",
    "\n",
    "param tau_F :     J1              J2              J3                J4               J5                J6 :=\n",
    "            A     3.244444444444  2.888888888889  3.13333333333333  2.3111111111111  2.23333333333333  2.2222222222222\n",
    "            B     3.244444444444  2.888888888889  3.13333333333333  2.3111111111111  2.23333333333333  2.2222222222222\n",
    "            C     3.244444444444  2.888888888889  3.13333333333333  2.3111111111111  2.23333333333333  2.2222222222222\n",
    "            D     2.888888888889  3.333333333333  2.83333333333333  2.0              2.33333333333333  2.1333333333333\n",
    "            E     2.888888888889  3.333333333333  2.83333333333333  2.0              2.33333333333333  2.1333333333333\n",
    "            F     2.888888888889  3.333333333333  2.83333333333333  2.0              2.33333333333333  2.1333333333333\n",
    "            G     3.022222222222  3.333333333333  3.0               2.1333333333333  2.16666666666667  2.2222222222222\n",
    "            H     3.022222222222  3.333333333333  3.0               2.1333333333333  2.16666666666667  2.2222222222222\n",
    "            I     3.022222222222  3.333333333333  3.0               2.1333333333333  2.16666666666667  2.2222222222222\n",
    "            J     3.022222222222  3.333333333333  3.0               2.1333333333333  2.16666666666667  2.2222222222222\n",
    "            K     3.466666666667  2.844444444444  2.33333333333333  2.2222222222222  2.0               2.0\n",
    "            L     3.466666666667  2.844444444444  2.33333333333333  2.2222222222222  2.0               2.0;\n",
    "\n",
    "param tau_P :     J1     J2     J3     J4     J5     J6 :=\n",
    "            A     0.162  0.144  0.209  0.116  0.149  0.111\n",
    "            B     0.162  0.144  0.209  0.116  0.149  0.111\n",
    "            C     0.162  0.144  0.209  0.116  0.149  0.111\n",
    "            D     0.144  0.167  0.189  0.100  0.156  0.107\n",
    "            E     0.144  0.167  0.189  0.100  0.156  0.107\n",
    "            F     0.144  0.167  0.189  0.100  0.156  0.107\n",
    "            G     0.151  0.167  0.2    0.107  0.144  0.111\n",
    "            H     0.151  0.167  0.2    0.107  0.144  0.111\n",
    "            I     0.151  0.167  0.2    0.107  0.144  0.111\n",
    "            J     0.151  0.167  0.2    0.107  0.144  0.111\n",
    "            K     0.173  0.142  0.156  0.111  0.133  0.1\n",
    "            L     0.173  0.142  0.156  0.111  0.133  0.1;\n",
    "\n",
    "param c_F :       J1  J2  J3  J4  J5  J6 :=\n",
    "            A     .   85  90  100 100 110\n",
    "            B     50  52  41  91  91  91\n",
    "            C     100 110 90  50  50  55\n",
    "            D     20  10  10  61  61  61\n",
    "            E     80  80  90  110 120 130\n",
    "            F     70  70  70  40  40  30\n",
    "            G     100 100 100 90  90  100\n",
    "            H     10  30  40  45  45  45\n",
    "            I     15  20  20  35  40  35\n",
    "            J     30  40  30  35  45  25\n",
    "            K     15  20  40  15  25  40\n",
    "            L     25  30  30  40  35  45;\n",
    "\n",
    "table H := 80;\n",
    "\n",
    "''')\n",
    "finally:\n",
    "    data_object.close()\n",
    "    \n",
    "data = pe.DataPortal()\n",
    "data.load(filename=\"Example3.dat\", model=model)"
   ]
  },
  {
   "cell_type": "markdown",
   "metadata": {},
   "source": [
    "## Set Declaration"
   ]
  },
  {
   "cell_type": "code",
   "execution_count": 3,
   "metadata": {},
   "outputs": [],
   "source": [
    "model.I = pe.Set(initialize=data['I'],ordered=True)\n",
    "model.J = pe.Set(initialize=data['J'],ordered=True)\n",
    "model.K = pe.Set(initialize=data['K'],ordered=True)\n",
    "model.Jk = pe.Set(within=model.J*model.K,initialize=data['Jk'])\n",
    "model.JF = pe.Set(within=model.I*model.J,initialize=data['JF'])\n",
    "model.FP = pe.Set(within=model.J*model.J,initialize=data['FP'])"
   ]
  },
  {
   "cell_type": "markdown",
   "metadata": {},
   "source": [
    "## Special Set: $JA_{ik}$"
   ]
  },
  {
   "cell_type": "code",
   "execution_count": 4,
   "metadata": {},
   "outputs": [],
   "source": [
    "def JAik_rule(model):\n",
    "    tmp = []\n",
    "    for j in model.J:\n",
    "        for i in model.I:\n",
    "            for k in model.K:\n",
    "                if ((j,k) in model.Jk) and ((i,j) not in model.JF):\n",
    "                    tmp.append((j,i,k))\n",
    "    return tmp\n",
    "model.JAik = pe.Set(within=model.J*model.I*model.K,initialize=JAik_rule)"
   ]
  },
  {
   "cell_type": "markdown",
   "metadata": {},
   "source": [
    "## Parameters Declaration"
   ]
  },
  {
   "cell_type": "code",
   "execution_count": 5,
   "metadata": {},
   "outputs": [],
   "source": [
    "model.H = pe.Param(initialize=data['H'])\n",
    "model.q = pe.Param(model.I,within=pe.NonNegativeReals,initialize=data['q'])\n",
    "model.r = pe.Param(model.I,within=pe.NonNegativeReals,initialize=data['r'],default=0)\n",
    "model.d = pe.Param(model.I,within=pe.NonNegativeReals,initialize=data['d'],default=model.H)\n",
    "model.b_min = pe.Param(model.J,within=pe.NonNegativeReals,initialize=data['b_min'])\n",
    "model.b_max = pe.Param(model.J,within=pe.NonNegativeReals,initialize=data['b_max'])\n",
    "model.tau_F = pe.Param(model.I,model.J,within=pe.NonNegativeReals,initialize=data['tau_F'])\n",
    "model.tau_P = pe.Param(model.I,model.J,within=pe.NonNegativeReals,initialize=data['tau_P'])"
   ]
  },
  {
   "cell_type": "markdown",
   "metadata": {},
   "source": [
    "## Special Set: $L_i$"
   ]
  },
  {
   "cell_type": "markdown",
   "metadata": {},
   "source": [
    "* (1)\n",
    "* (2)"
   ]
  },
  {
   "cell_type": "code",
   "execution_count": 6,
   "metadata": {},
   "outputs": [],
   "source": [
    "# First, we need to compute for each i, what is the minimum batch size across all stages\n",
    "def bi_min_rule(model,i):\n",
    "    return max(min(model.b_min[j] for j in model.J if (j,i,k) in model.JAik) for k in model.K)\n",
    "model.bi_min = pe.Param(model.I,initialize=bi_min_rule)\n",
    "\n",
    "def bi_max_rule(model,i):\n",
    "    return min(max(model.b_max[j] for j in model.J if (j,i,k) in model.JAik) for k in model.K)\n",
    "model.bi_max = pe.Param(model.I,initialize=bi_max_rule)\n",
    "\n",
    "# Second, we can use demand data, compute upper and lower bound for the number of batches\n",
    "def li_max_rule(model,i):\n",
    "    return ceil(model.q[i]/model.bi_min[i])\n",
    "model.li_max = pe.Param(model.I,initialize=li_max_rule)\n",
    "\n",
    "def li_min_rule(model,i):\n",
    "    return ceil(model.q[i]/model.bi_max[i])\n",
    "model.li_min = pe.Param(model.I,initialize=li_min_rule)\n",
    "\n",
    "# Third, construct the L(i) list\n",
    "def Li_rule(model):\n",
    "    tmp = []\n",
    "    for i in model.I:\n",
    "        for l in range(1,model.li_max[i]+1):\n",
    "            tmp.append((i,l))\n",
    "    return tmp\n",
    "model.Li = pe.Set(dimen=2,initialize=Li_rule,ordered=True)"
   ]
  },
  {
   "cell_type": "code",
   "execution_count": 7,
   "metadata": {},
   "outputs": [
    {
     "name": "stdout",
     "output_type": "stream",
     "text": [
      "Li : Dim=0, Dimen=2, Size=59, Domain=None, Ordered=Insertion, Bounds=None\n",
      "    [('A', 1), ('A', 2), ('A', 3), ('A', 4), ('A', 5), ('A', 6), ('A', 7), ('A', 8), ('B', 1), ('B', 2), ('B', 3), ('B', 4), ('B', 5), ('C', 1), ('C', 2), ('C', 3), ('D', 1), ('D', 2), ('D', 3), ('D', 4), ('D', 5), ('D', 6), ('D', 7), ('D', 8), ('D', 9), ('D', 10), ('D', 11), ('E', 1), ('E', 2), ('E', 3), ('E', 4), ('E', 5), ('E', 6), ('E', 7), ('F', 1), ('F', 2), ('F', 3), ('F', 4), ('G', 1), ('G', 2), ('G', 3), ('G', 4), ('G', 5), ('G', 6), ('G', 7), ('G', 8), ('G', 9), ('G', 10), ('G', 11), ('H', 1), ('H', 2), ('I', 1), ('I', 2), ('J', 1), ('J', 2), ('K', 1), ('K', 2), ('L', 1), ('L', 2)]\n"
     ]
    }
   ],
   "source": [
    "model.Li.pprint()"
   ]
  },
  {
   "cell_type": "markdown",
   "metadata": {},
   "source": [
    "## Batching and Assignment Variables Declaration"
   ]
  },
  {
   "cell_type": "code",
   "execution_count": 8,
   "metadata": {},
   "outputs": [],
   "source": [
    "model.B = pe.Var(model.Li,within=pe.NonNegativeReals)\n",
    "model.B_ = pe.Var(model.Li,model.J,within=pe.NonNegativeReals)\n",
    "model.Z = pe.Var(model.Li,within=pe.Binary)\n",
    "model.X = pe.Var(model.Li,model.J,within=pe.Binary)"
   ]
  },
  {
   "cell_type": "code",
   "execution_count": 9,
   "metadata": {},
   "outputs": [],
   "source": [
    "for i,l in model.B:\n",
    "    model.B[i,l].setub(model.bi_max[i])\n",
    "\n",
    "for i,l,j in model.B_:\n",
    "    model.B_[i,l,j].setub(model.bi_max[i])"
   ]
  },
  {
   "cell_type": "markdown",
   "metadata": {},
   "source": [
    "## Batching and Assignment Constraints"
   ]
  },
  {
   "cell_type": "markdown",
   "metadata": {},
   "source": [
    "* (3) Example 2, production amount is not in the objective, so using == to prevent the value from floating"
   ]
  },
  {
   "cell_type": "code",
   "execution_count": 10,
   "metadata": {},
   "outputs": [],
   "source": [
    "def demand_rule(model,i):\n",
    "    return sum(model.B[i_,l] for i_,l in model.Li if i_ == i) == model.q[i]\n",
    "model.demand_con = pe.Constraint(model.I,rule=demand_rule)"
   ]
  },
  {
   "cell_type": "markdown",
   "metadata": {},
   "source": [
    "* (4) According to paper, becomes obsolete with constraint 5-7"
   ]
  },
  {
   "cell_type": "code",
   "execution_count": 11,
   "metadata": {},
   "outputs": [],
   "source": [
    "def batch_select_rule1(model,i,l):\n",
    "    return model.B[i,l] <= model.bi_max[i]*model.Z[i,l]\n",
    "model.batch_select_con1 = pe.Constraint(model.Li,rule=batch_select_rule1)\n",
    "\n",
    "def batch_select_rule2(model,i,l):\n",
    "    return model.bi_min[i]*model.Z[i,l] <= model.B[i,l]\n",
    "model.batch_select_con2 = pe.Constraint(model.Li,rule=batch_select_rule2)"
   ]
  },
  {
   "cell_type": "markdown",
   "metadata": {},
   "source": [
    "* (5)"
   ]
  },
  {
   "cell_type": "code",
   "execution_count": 12,
   "metadata": {},
   "outputs": [],
   "source": [
    "def unit_select_rule(model,i,l,k):\n",
    "    return model.Z[i,l] == sum(model.X[i,l,j] for j in model.J if (j,i,k) in model.JAik)\n",
    "model.unit_select_con = pe.Constraint(model.Li,model.K,rule=unit_select_rule)"
   ]
  },
  {
   "cell_type": "markdown",
   "metadata": {},
   "source": [
    "* (6)"
   ]
  },
  {
   "cell_type": "code",
   "execution_count": 13,
   "metadata": {},
   "outputs": [],
   "source": [
    "def unit_size_rule(model,i,l,k):\n",
    "    return model.B[i,l] == sum(model.B_[i,l,j] for j in model.J if (j,i,k) in model.JAik)\n",
    "model.unit_size_con = pe.Constraint(model.Li,model.K,rule=unit_size_rule)"
   ]
  },
  {
   "cell_type": "markdown",
   "metadata": {},
   "source": [
    "* (7)"
   ]
  },
  {
   "cell_type": "code",
   "execution_count": 14,
   "metadata": {},
   "outputs": [],
   "source": [
    "def unit_bound_rule1(model,i,l,j):\n",
    "    return model.B_[i,l,j] <= model.b_max[j]*model.X[i,l,j]\n",
    "model.unit_bound_con1 = pe.Constraint(model.Li,model.J,rule=unit_bound_rule1)\n",
    "\n",
    "def unit_bound_rule2(model,i,l,j):\n",
    "    return model.b_min[j]*model.X[i,l,j] <= model.B_[i,l,j]\n",
    "model.unit_bound_con2 = pe.Constraint(model.Li,model.J,rule=unit_bound_rule2)"
   ]
  },
  {
   "cell_type": "markdown",
   "metadata": {},
   "source": [
    "* (8)"
   ]
  },
  {
   "cell_type": "code",
   "execution_count": 15,
   "metadata": {},
   "outputs": [],
   "source": [
    "def batch_order_rule(model,i,l):\n",
    "    if l == ceil(model.q[i]/model.bi_min[i]): return pe.Constraint.Skip\n",
    "    return model.Z[i,l+1] <= model.Z[i,l]\n",
    "model.batch_order_con = pe.Constraint(model.Li,rule=batch_order_rule)"
   ]
  },
  {
   "cell_type": "markdown",
   "metadata": {},
   "source": [
    "## Special Set: $IL$"
   ]
  },
  {
   "cell_type": "code",
   "execution_count": 16,
   "metadata": {},
   "outputs": [],
   "source": [
    "def IL_rule(model):\n",
    "    tmp = []\n",
    "    for i,l in model.Li:\n",
    "        for i_,l_ in model.Li:\n",
    "            if (i != i_) or (i == i_ and l != l_ ):\n",
    "                tmp.append((i,l,i_,l_))\n",
    "    return tmp\n",
    "model.IL = pe.Set(dimen=4,initialize=IL_rule,ordered=True)"
   ]
  },
  {
   "cell_type": "markdown",
   "metadata": {},
   "source": [
    "## Sequencing and Timing Variables Declaration"
   ]
  },
  {
   "cell_type": "code",
   "execution_count": 17,
   "metadata": {},
   "outputs": [],
   "source": [
    "model.Y = pe.Var(model.IL,model.K,within=pe.Binary)\n",
    "model.T = pe.Var(model.Li,model.K,within=pe.NonNegativeReals)\n",
    "model.LT = pe.Var(model.Li,within=pe.NonNegativeReals)\n",
    "\n",
    "for i,l,j in model.T:\n",
    "    model.T[i,l,j].setub(model.d[i])"
   ]
  },
  {
   "cell_type": "markdown",
   "metadata": {},
   "source": [
    "## Sequencing and Timing Constraints"
   ]
  },
  {
   "cell_type": "markdown",
   "metadata": {},
   "source": [
    "* (9)"
   ]
  },
  {
   "cell_type": "code",
   "execution_count": 18,
   "metadata": {},
   "outputs": [],
   "source": [
    "def same_unit_rule(model,i,l,i_,l_,k,j):\n",
    "    if (model.I.ord(i) <= model.I.ord(i_)) and ((j,i,k) in model.JAik) and ((j,i_,k) in model.JAik):\n",
    "        return model.X[i,l,j] + model.X[i_,l_,j] - 1 <= model.Y[i,l,i_,l_,k] + model.Y[i_,l_,i,l,k]\n",
    "    else:\n",
    "        return pe.Constraint.Skip\n",
    "model.same_unit_con = pe.Constraint(model.IL,model.K,model.J,rule=same_unit_rule)"
   ]
  },
  {
   "cell_type": "markdown",
   "metadata": {},
   "source": [
    "* (10)"
   ]
  },
  {
   "cell_type": "code",
   "execution_count": 19,
   "metadata": {},
   "outputs": [],
   "source": [
    "def finish_time_rule(model,i,l,i_,l_,k):\n",
    "    return model.T[i_,l_,k] >= model.T[i,l,k] - model.H*(1-model.Y[i,l,i_,l_,k]) + sum( (model.tau_F[i_,j] \\\n",
    "            *model.X[i_,l_,j] + model.tau_P[i_,j]*model.B_[i_,l_,j]) for j in model.J if (j,i_,k) in model.JAik)\n",
    "model.finish_time_con = pe.Constraint(model.IL,model.K,rule=finish_time_rule)"
   ]
  },
  {
   "cell_type": "markdown",
   "metadata": {},
   "source": [
    "* (11)"
   ]
  },
  {
   "cell_type": "code",
   "execution_count": 20,
   "metadata": {},
   "outputs": [],
   "source": [
    "def between_stages_rule(model,i,l,k):\n",
    "    if model.K.ord(k) == len(model.K): return pe.Constraint.Skip\n",
    "    return model.T[i,l,model.K.next(k)] >= model.T[i,l,k] + sum((model.tau_F[i,j]*model.X[i,l,j] \\\n",
    "             + model.tau_P[i,j]*model.B_[i,l,j]) for j in model.J if (j,i,model.K.next(k)) in model.JAik)\n",
    "model.between_stages_con = pe.Constraint(model.Li,model.K,rule=between_stages_rule)"
   ]
  },
  {
   "cell_type": "markdown",
   "metadata": {},
   "source": [
    "## Additional Constraints"
   ]
  },
  {
   "cell_type": "markdown",
   "metadata": {},
   "source": [
    "* (12) (13)"
   ]
  },
  {
   "cell_type": "code",
   "execution_count": 21,
   "metadata": {},
   "outputs": [],
   "source": [
    "def start_rule(model,i,l,k):\n",
    "    return model.T[i,l,k] >= model.r[i]*model.Z[i,l] + sum( (model.tau_F[i,j]*model.X[i,l,j] \\\n",
    "             + model.tau_P[i,j]*model.B_[i,l,j]) for k_ in model.K if model.K.ord(k_) <= model.K.ord(k) \\\n",
    "                                                           for j in model.J if (j,i,k_) in model.JAik )\n",
    "model.start_con = pe.Constraint(model.Li,model.K,rule=start_rule)\n",
    "\n",
    "def end_rule(model,i,l,k):\n",
    "    return model.T[i,l,k] <= model.d[i]*model.Z[i,l] - sum( (model.tau_F[i,j]*model.X[i,l,j] \\\n",
    "             + model.tau_P[i,j]*model.B_[i,l,j]) for k_ in model.K if model.K.ord(k_) > model.K.ord(k) \\\n",
    "                                                           for j in model.J if (j,i,k_) in model.JAik )\n",
    "model.end_con = pe.Constraint(model.Li,model.K,rule=end_rule)"
   ]
  },
  {
   "cell_type": "markdown",
   "metadata": {},
   "source": [
    "* (14) (15)"
   ]
  },
  {
   "cell_type": "code",
   "execution_count": 22,
   "metadata": {},
   "outputs": [],
   "source": [
    "def forbidden_path_rule(model,i,l,j,j_):\n",
    "    if (j,j_) in model.FP: return model.X[i,l,j] + model.X[i,l,j_] <= model.Z[i,l]\n",
    "    return pe.Constraint.Skip\n",
    "model.forbidden_path_con = pe.Constraint(model.Li,model.J,model.J,rule=forbidden_path_rule)\n",
    "\n",
    "def forbidden_assignment_rule(model,i,l,j):\n",
    "    if (i,j) in model.JF: return model.X[i,l,j] == 0\n",
    "    return pe.Constraint.Skip\n",
    "model.forbidden_assignment_con = pe.Constraint(model.Li,model.J,rule=forbidden_assignment_rule)"
   ]
  },
  {
   "cell_type": "markdown",
   "metadata": {},
   "source": [
    "* (16) (17)"
   ]
  },
  {
   "cell_type": "code",
   "execution_count": 23,
   "metadata": {},
   "outputs": [],
   "source": [
    "def batch_size_sym_rule(model,i,l):\n",
    "    if l == ceil(model.q[i]/model.bi_min[i]): return pe.Constraint.Skip\n",
    "    return model.B[i,l+1] <= model.B[i,l]\n",
    "model.batch_size_sym_con = pe.Constraint(model.Li,rule=batch_size_sym_rule)\n",
    "\n",
    "def Z_force_rule(model,i,l):\n",
    "    if l <= model.li_min[i]: return model.Z[i,l] == 1\n",
    "    return pe.Constraint.Skip\n",
    "model.Z_force_con = pe.Constraint(model.Li)"
   ]
  },
  {
   "cell_type": "markdown",
   "metadata": {},
   "source": [
    "* (18) Not necessary here, all variables are defined without redundency\n",
    "* (19) Already covered in variable declaration\n",
    "\n",
    "- Fix lateness fixed to 0"
   ]
  },
  {
   "cell_type": "code",
   "execution_count": 24,
   "metadata": {},
   "outputs": [],
   "source": [
    "for x in model.LT:\n",
    "    model.LT[x].fix(0)"
   ]
  },
  {
   "cell_type": "markdown",
   "metadata": {},
   "source": [
    "## Tightening Inequalities - Fixing of Sequencing Binaries\n",
    "\n",
    "* (A1)\n",
    "* (A2)\n",
    "* (A3)\n",
    "* (A4)"
   ]
  },
  {
   "cell_type": "code",
   "execution_count": 25,
   "metadata": {},
   "outputs": [],
   "source": [
    "def tau_min_rule(model,i,j):\n",
    "    if (i,j) in model.JF: return None\n",
    "    return model.tau_F[i,j] + model.tau_P[i,j]*model.bi_min[i]\n",
    "model.tau_min = pe.Param(model.I,model.J,initialize=tau_min_rule)\n",
    "\n",
    "def est_rule(model,i,k):\n",
    "    return model.r[i] + sum( min(model.tau_min[i,j] for j in model.J if (j,i,k_) in model.JAik) \\\n",
    "                            for k_ in model.K if model.K.ord(k_) < model.K.ord(k))\n",
    "model.est = pe.Param(model.I,model.K,initialize=est_rule)\n",
    "\n",
    "def eft_rule(model,i,k):\n",
    "    return model.est[i,k] + min(model.tau_min[i,j] for j in model.J if (j,i,k) in model.JAik)\n",
    "model.eft = pe.Param(model.I,model.K,initialize=eft_rule)\n",
    "\n",
    "def lst_rule(model,i,k):\n",
    "    return model.d[i] - sum( min(model.tau_min[i,j] for j in model.J if (j,i,k_) in model.JAik) \\\n",
    "                            for k_ in model.K if model.K.ord(k_) >= model.K.ord(k))\n",
    "model.lst = pe.Param(model.I,model.K,initialize=lst_rule)\n",
    "\n",
    "def lft_rule(model,i,k):\n",
    "    return model.lst[i,k] + min(model.tau_min[i,j] for j in model.J if (j,i,k) in model.JAik)\n",
    "model.lft = pe.Param(model.I,model.K,initialize=lft_rule)"
   ]
  },
  {
   "cell_type": "markdown",
   "metadata": {},
   "source": [
    "* (26)"
   ]
  },
  {
   "cell_type": "code",
   "execution_count": 26,
   "metadata": {},
   "outputs": [],
   "source": [
    "def mission_impossible_rule1(model,i,l,i_,l_,k):\n",
    "    if model.eft[i,k] > model.lst[i_,k]: return model.Y[i,l,i_,l_,k] == 0\n",
    "    return pe.Constraint.Skip\n",
    "model.mission_impossible_con1 = pe.Constraint(model.IL,model.K,rule=mission_impossible_rule1)"
   ]
  },
  {
   "cell_type": "markdown",
   "metadata": {},
   "source": [
    "* (A5)\n",
    "* (A6)"
   ]
  },
  {
   "cell_type": "code",
   "execution_count": 27,
   "metadata": {},
   "outputs": [],
   "source": [
    "def ubiij_rule(model,i,i_,j):\n",
    "    if (i,j) in model.JF or (i_,j) in model.JF: return None\n",
    "    for m in model.Jk:\n",
    "        if m[0] == j: Kj = m[1]\n",
    "    tmp1 = model.d[i] - model.tau_min[i,j] - sum( min(model.tau_min[i,j_] for j_ in model.J if (j_,i,k_) in model.JAik) \\\n",
    "                            for k_ in model.K if model.K.ord(k_) > model.K.ord(Kj))\n",
    "    tmp2 = model.d[i_] - model.tau_min[i_,j] - model.tau_min[i,j] - sum( min(model.tau_min[i_,j_] \\\n",
    "                 for j_ in model.J if (j_,i_,k_) in model.JAik) for k_ in model.K if model.K.ord(k_) > model.K.ord(Kj))\n",
    "    return min( tmp1,tmp2 )\n",
    "model.ubiij = pe.Param(model.I,model.I,model.J,rule=ubiij_rule)"
   ]
  },
  {
   "cell_type": "markdown",
   "metadata": {},
   "source": [
    "## Special Set $P_{i'k}$"
   ]
  },
  {
   "cell_type": "code",
   "execution_count": 28,
   "metadata": {},
   "outputs": [],
   "source": [
    "def Pik_rule(model):\n",
    "    tmp = []\n",
    "    for i in model.I:\n",
    "        for i_ in model.I:\n",
    "            for k in model.K:\n",
    "                if model.est[i,k] <= max( model.ubiij[i,i_,j] for j in model.J \\\n",
    "                                         if ((j,i,k) in model.JAik) and ((j,i_,k) in model.JAik)):\n",
    "                    tmp.append((i,i_,k))\n",
    "    return tmp\n",
    "model.Pi_k = pe.Set(within=model.I*model.I*model.K,initialize=Pik_rule)     "
   ]
  },
  {
   "cell_type": "markdown",
   "metadata": {},
   "source": [
    "* (27)"
   ]
  },
  {
   "cell_type": "code",
   "execution_count": 29,
   "metadata": {},
   "outputs": [],
   "source": [
    "def mission_impossible_rule2(model,i,l,i_,l_,k):\n",
    "    if (i,i_,k) not in model.Pi_k: return model.Y[i,l,i_,l_,k] == 0\n",
    "    return pe.Constraint.Skip\n",
    "model.mission_impossible_con2 = pe.Constraint(model.IL,model.K,rule=mission_impossible_rule2)"
   ]
  },
  {
   "cell_type": "markdown",
   "metadata": {},
   "source": [
    "## Tightening Inequalities - Time Window"
   ]
  },
  {
   "cell_type": "markdown",
   "metadata": {},
   "source": [
    "* (B1)"
   ]
  },
  {
   "cell_type": "code",
   "execution_count": 30,
   "metadata": {},
   "outputs": [],
   "source": [
    "N = {}; lbw = {}; ubw = {}; tail = {}; ICjn = {}\n",
    "ICjn\n",
    "for j,k in model.Jk:\n",
    "    IC_ = {i for i in model.I if (i,j) not in model.JF}\n",
    "    n = 0\n",
    "    while IC_ : \n",
    "        ICjn[j,n] = IC_\n",
    "        while ICjn[j,n] and max(model.lft[i,k] for i in ICjn[j,n]) == max(model.lft[i,k] for i in IC_) :\n",
    "            lbw[j,n] = min(model.est[i,k] for i in ICjn[j,n])\n",
    "            ubw[j,n] = max(model.lft[i,k] for i in ICjn[j,n])\n",
    "            tail[j,n] = min( sum( min( model.tau_min[i,j_] for j_ in model.J if (j_,i,k_) in model.JAik) \\\n",
    "                        for k_ in model.K if model.K.ord(k_) > model.K.ord(k)) for i in ICjn[j,n])\n",
    "            ICjn[j,n+1] = ICjn[j,n] - {i for i in model.I if model.est[i,k] == lbw[j,n]}\n",
    "            n = n+1\n",
    "        IC_ = IC_ - {i for i in model.I if model.lft[i,k] == ubw[j,n-1]}\n",
    "    N[j] = n\n",
    "    ICjn.pop((j,n))"
   ]
  },
  {
   "cell_type": "markdown",
   "metadata": {},
   "source": [
    "* (28)"
   ]
  },
  {
   "cell_type": "code",
   "execution_count": 31,
   "metadata": {},
   "outputs": [],
   "source": [
    "#Using constraintlist instead, because of the way ICjn[j,n] is constructed\n",
    "model.mission_impossible_con3 = pe.ConstraintList()\n",
    "for j in N.keys():\n",
    "    for n in range(N[j]):\n",
    "        expr = sum(model.tau_F[i,j]*model.X[i,l,j] + model.tau_P[i,j]*model.B_[i,l,j] \\\n",
    "                   for i,l in model.Li if i in ICjn[j,n]) <= ubw[j,n] - lbw[j,n]\n",
    "        model.mission_impossible_con3.add(expr)"
   ]
  },
  {
   "cell_type": "markdown",
   "metadata": {},
   "source": [
    "## Objective Function"
   ]
  },
  {
   "cell_type": "markdown",
   "metadata": {},
   "source": [
    "## Cost Parameter"
   ]
  },
  {
   "cell_type": "code",
   "execution_count": 32,
   "metadata": {},
   "outputs": [],
   "source": [
    "model.c_F = pe.Param(model.I,model.J,within=pe.NonNegativeReals,initialize=data['c_F'])"
   ]
  },
  {
   "cell_type": "markdown",
   "metadata": {},
   "source": [
    "* (23) (24) Minimize Earliness"
   ]
  },
  {
   "cell_type": "code",
   "execution_count": 33,
   "metadata": {},
   "outputs": [],
   "source": [
    "model.obj = pe.Objective(expr=sum(model.c_F[i,j]*model.X[i,l,j] for i, l in model.Li \\\n",
    "                                  for j in model.J if (i,j) not in model.JF),sense=pe.minimize)"
   ]
  },
  {
   "cell_type": "markdown",
   "metadata": {},
   "source": [
    "## Solve"
   ]
  },
  {
   "cell_type": "code",
   "execution_count": 34,
   "metadata": {
    "scrolled": false
   },
   "outputs": [
    {
     "name": "stdout",
     "output_type": "stream",
     "text": [
      "Academic license - for non-commercial use only\n",
      "Changed value of parameter MIPGap to 0.0\n",
      "   Prev: 0.0001  Min: 0.0  Max: 1e+100  Default: 0.0001\n",
      "Parameter mipgap unchanged\n",
      "   Value: 0.0  Min: 0.0  Max: 1e+100  Default: 0.0001\n",
      "Optimize a model with 22235 rows, 7789 columns and 121128 nonzeros\n",
      "Variable types: 532 continuous, 7257 integer (7257 binary)\n",
      "Coefficient statistics:\n",
      "  Matrix range     [1e-01, 8e+01]\n",
      "  Objective range  [1e+01, 1e+02]\n",
      "  Bounds range     [1e+00, 8e+01]\n",
      "  RHS range        [1e+00, 1e+02]\n",
      "Presolve removed 9305 rows and 2266 columns\n",
      "Presolve time: 0.40s\n",
      "Presolved: 12930 rows, 5523 columns, 73339 nonzeros\n",
      "Variable types: 387 continuous, 5136 integer (5136 binary)\n",
      "\n",
      "Root relaxation: objective 3.028000e+03, 1622 iterations, 0.22 seconds\n",
      "\n",
      "    Nodes    |    Current Node    |     Objective Bounds      |     Work\n",
      " Expl Unexpl |  Obj  Depth IntInf | Incumbent    BestBd   Gap | It/Node Time\n",
      "\n",
      "     0     0 3028.00000    0   79          - 3028.00000      -     -    0s\n",
      "     0     0 3028.00000    0  100          - 3028.00000      -     -    1s\n",
      "     0     0 3028.00000    0   98          - 3028.00000      -     -    1s\n",
      "     0     0 3028.00000    0   31          - 3028.00000      -     -    1s\n",
      "     0     0 3028.00000    0   30          - 3028.00000      -     -    1s\n",
      "     0     0 3028.00000    0   20          - 3028.00000      -     -    2s\n",
      "     0     0 3028.00000    0   20          - 3028.00000      -     -    2s\n",
      "     0     0 3028.00000    0   13          - 3028.00000      -     -    2s\n",
      "     0     0 3028.00000    0   13          - 3028.00000      -     -    2s\n",
      "     0     0 3028.00000    0    8          - 3028.00000      -     -    2s\n",
      "     0     0 3028.00000    0   12          - 3028.00000      -     -    2s\n",
      "     0     0 3028.00000    0   14          - 3028.00000      -     -    2s\n",
      "     0     0 3028.00000    0   10          - 3028.00000      -     -    2s\n",
      "     0     0 3028.00000    0   11          - 3028.00000      -     -    3s\n",
      "     0     0 3028.00000    0   10          - 3028.00000      -     -    3s\n",
      "     0     0 3028.00000    0   10          - 3028.00000      -     -    3s\n",
      "     0     0 3028.00000    0   14          - 3028.00000      -     -    3s\n",
      "     0     0 3028.00000    0   13          - 3028.00000      -     -    3s\n",
      "H    0     0                    3674.0000000 3028.00000  17.6%     -    3s\n",
      "     0     0 3028.00000    0   13 3674.00000 3028.00000  17.6%     -    3s\n",
      "H    0     0                    3444.0000000 3028.00000  12.1%     -    4s\n",
      "     0     2 3028.00000    0   13 3444.00000 3028.00000  12.1%     -    4s\n",
      "    53    55 3028.41862   12   47 3444.00000 3028.00000  12.1%  55.3    5s\n",
      "H   77    70                    3434.0000000 3028.00000  11.8%  49.4    5s\n",
      "H  209   176                    3385.0000000 3028.00000  10.5%  60.4    5s\n",
      "H  240   209                    3138.0000000 3028.00000  3.51%  68.0    6s\n",
      "H 1025   661                    3128.0000000 3028.00000  3.20%  44.1    8s\n",
      "  1104   696 3110.94933   55    6 3128.00000 3037.00000  2.91%  43.0   10s\n",
      "H 1123   674                    3037.0000000 3037.00000  0.00%  47.7   11s\n",
      "\n",
      "Cutting planes:\n",
      "  Gomory: 5\n",
      "  Cover: 1\n",
      "  MIR: 11\n",
      "  Flow cover: 21\n",
      "\n",
      "Explored 1123 nodes (69648 simplex iterations) in 11.55 seconds\n",
      "Thread count was 8 (of 8 available processors)\n",
      "\n",
      "Solution count 8: 3037 3128 3128 ... 3674\n",
      "\n",
      "Optimal solution found (tolerance 0.00e+00)\n",
      "Best objective 3.037000000000e+03, best bound 3.037000000000e+03, gap 0.0000%\n"
     ]
    }
   ],
   "source": [
    "opt = pe.SolverFactory('gurobi')\n",
    "opt.solve(model,options={'mipgap':0},tee=True);"
   ]
  },
  {
   "cell_type": "markdown",
   "metadata": {},
   "source": [
    "## Result Interpretation"
   ]
  },
  {
   "cell_type": "code",
   "execution_count": 35,
   "metadata": {},
   "outputs": [],
   "source": [
    "def model_pp(model):\n",
    "    print('-'*90)\n",
    "    print('Objective = {:.2f}'.format(model.obj()))\n",
    "    for k in model.K:\n",
    "        print('-'*90)\n",
    "        print('Stage:',k)\n",
    "        print('Units\\tProd\\tBatch\\t\\tProduction\\tStart Time\\tFinish Time')\n",
    "        for i,l,j in model.X:\n",
    "            if (j,k) in model.Jk and model.X[i,l,j] != 0:\n",
    "                print(j,'\\t',i,'\\t',l,'\\t\\t{:.1f}\\t\\t{:.1f}\\t\\t{:.1f}'.format(model.B_[i,l,j].value,\\\n",
    "                model.T[i,l,k].value - (model.tau_F[i,j]+model.tau_P[i,j]*model.B_[i,l,j].value),model.T[i,l,k].value))"
   ]
  },
  {
   "cell_type": "code",
   "execution_count": 36,
   "metadata": {},
   "outputs": [],
   "source": [
    "from matplotlib import pyplot as plt\n",
    "def plot_gantt(model):\n",
    "    fig = plt.figure(figsize=(20,9))\n",
    "    ax = fig.add_subplot(111)\n",
    "    for k in model.K:\n",
    "        for i,l,j in model.X:\n",
    "            if (j,k) in model.Jk and model.X[i,l,j] != 0:\n",
    "                rect = ax.barh(model.J.ord(j), (model.tau_F[i,j]+model.tau_P[i,j]*model.B_[i,l,j].value), 0.5, left=model.T[i,l,k].value - (model.tau_F[i,j]+model.tau_P[i,j]*model.B_[i,l,j].value), align='center', color='None', edgecolor='Black',linewidth = 3)\n",
    "                xloc = rect[0].get_x() + rect[-1].get_width()/2.0; yloc = rect[-1].get_y() + rect[-1].get_height()/2.0\n",
    "                ax.text(xloc, yloc, '{},{},{:.0f}'.format(i,l,model.B_[i,l,j].value), horizontalalignment='center',verticalalignment='center', color='Black',clip_on=True,fontsize=14)\n",
    "    ax.invert_yaxis()\n",
    "    ax.set_yticklabels([1]+[j for j in model.J],fontsize=16)\n",
    "    ax.tick_params(axis='both', which='major', labelsize=18)\n",
    "    plt.ylabel('Unit',fontsize=18)\n",
    "    plt.xlabel('Time (h)',fontsize=18)\n",
    "    plt.show()"
   ]
  },
  {
   "cell_type": "code",
   "execution_count": 37,
   "metadata": {
    "scrolled": false
   },
   "outputs": [
    {
     "name": "stdout",
     "output_type": "stream",
     "text": [
      "------------------------------------------------------------------------------------------\n",
      "Objective = 3037.00\n",
      "------------------------------------------------------------------------------------------\n",
      "Stage: K1\n",
      "Units\tProd\tBatch\t\tProduction\tStart Time\tFinish Time\n",
      "J3 \t A \t 1 \t\t30.0\t\t20.0\t\t29.4\n",
      "J2 \t A \t 2 \t\t25.0\t\t28.9\t\t35.4\n",
      "J2 \t A \t 3 \t\t25.0\t\t20.4\t\t26.9\n",
      "J3 \t B \t 1 \t\t30.0\t\t9.4\t\t18.8\n",
      "J1 \t B \t 2 \t\t20.0\t\t6.0\t\t12.5\n",
      "J3 \t C \t 1 \t\t30.0\t\t-0.0\t\t9.4\n",
      "J3 \t D \t 1 \t\t30.0\t\t39.0\t\t47.5\n",
      "J2 \t D \t 2 \t\t25.0\t\t35.4\t\t42.9\n",
      "J3 \t D \t 3 \t\t25.0\t\t47.9\t\t55.5\n",
      "J2 \t D \t 4 \t\t25.0\t\t42.9\t\t50.4\n",
      "J1 \t E \t 1 \t\t25.0\t\t12.5\t\t19.0\n",
      "J2 \t E \t 2 \t\t22.5\t\t-0.0\t\t7.1\n",
      "J1 \t E \t 3 \t\t22.5\t\t19.0\t\t25.1\n",
      "J2 \t F \t 1 \t\t20.0\t\t13.8\t\t20.4\n",
      "J2 \t F \t 2 \t\t20.0\t\t7.1\t\t13.8\n",
      "J3 \t G \t 1 \t\t30.0\t\t30.0\t\t39.0\n",
      "J1 \t G \t 2 \t\t25.0\t\t36.8\t\t43.6\n",
      "J1 \t G \t 3 \t\t25.0\t\t43.6\t\t50.4\n",
      "J1 \t G \t 4 \t\t25.0\t\t30.0\t\t36.8\n",
      "J1 \t H \t 1 \t\t20.0\t\t-0.0\t\t6.0\n",
      "J1 \t I \t 1 \t\t20.0\t\t65.6\t\t71.6\n",
      "J3 \t J \t 1 \t\t20.0\t\t64.2\t\t71.2\n",
      "J1 \t K \t 1 \t\t20.0\t\t58.6\t\t65.6\n",
      "J1 \t L \t 1 \t\t20.0\t\t50.4\t\t57.3\n",
      "------------------------------------------------------------------------------------------\n",
      "Stage: K2\n",
      "Units\tProd\tBatch\t\tProduction\tStart Time\tFinish Time\n",
      "J5 \t A \t 1 \t\t30.0\t\t29.4\t\t36.1\n",
      "J4 \t A \t 2 \t\t25.0\t\t40.7\t\t45.9\n",
      "J4 \t A \t 3 \t\t25.0\t\t29.4\t\t34.6\n",
      "J5 \t B \t 1 \t\t30.0\t\t22.7\t\t29.4\n",
      "J5 \t B \t 2 \t\t20.0\t\t17.5\t\t22.7\n",
      "J5 \t C \t 1 \t\t30.0\t\t9.4\t\t16.1\n",
      "J5 \t D \t 1 \t\t30.0\t\t49.1\t\t56.1\n",
      "J6 \t D \t 2 \t\t25.0\t\t50.4\t\t55.2\n",
      "J4 \t D \t 3 \t\t25.0\t\t55.5\t\t60.0\n",
      "J6 \t D \t 4 \t\t25.0\t\t55.2\t\t60.0\n",
      "J4 \t E \t 1 \t\t25.0\t\t19.0\t\t23.5\n",
      "J4 \t E \t 2 \t\t22.5\t\t10.3\t\t14.6\n",
      "J4 \t E \t 3 \t\t22.5\t\t25.1\t\t29.4\n",
      "J6 \t F \t 1 \t\t20.0\t\t25.7\t\t30.0\n",
      "J6 \t F \t 2 \t\t20.0\t\t13.8\t\t18.0\n",
      "J5 \t G \t 1 \t\t30.0\t\t42.6\t\t49.1\n",
      "J4 \t G \t 2 \t\t25.0\t\t45.9\t\t50.7\n",
      "J4 \t G \t 3 \t\t25.0\t\t50.7\t\t55.5\n",
      "J5 \t G \t 4 \t\t25.0\t\t36.8\t\t42.6\n",
      "J4 \t H \t 1 \t\t20.0\t\t6.0\t\t10.3\n",
      "J4 \t I \t 1 \t\t20.0\t\t71.6\t\t75.9\n",
      "J6 \t J \t 1 \t\t20.0\t\t75.6\t\t80.0\n",
      "J4 \t K \t 1 \t\t20.0\t\t65.6\t\t70.0\n",
      "J5 \t L \t 1 \t\t20.0\t\t65.3\t\t70.0\n"
     ]
    },
    {
     "data": {
      "image/png": "[encoded data removed]",
      "text/plain": [
       "<matplotlib.figure.Figure at 0x11f01e7f0>"
      ]
     },
     "metadata": {},
     "output_type": "display_data"
    }
   ],
   "source": [
    "model_pp(model)\n",
    "plot_gantt(model)"
   ]
  },
  {
   "cell_type": "markdown",
   "metadata": {},
   "source": [
    "# We have multiple solutions (DUE TO NO CHANGEOVER COST), we will fix a few variables and show the problem still have the same objective value"
   ]
  },
  {
   "cell_type": "code",
   "execution_count": null,
   "metadata": {},
   "outputs": [],
   "source": []
  }
 ],
 "metadata": {
  "kernelspec": {
   "display_name": "Python 3",
   "language": "python",
   "name": "python3"
  },
  "language_info": {
   "codemirror_mode": {
    "name": "ipython",
    "version": 3
   },
   "file_extension": ".py",
   "mimetype": "text/x-python",
   "name": "python",
   "nbconvert_exporter": "python",
   "pygments_lexer": "ipython3",
   "version": "3.6.3"
  }
 },
 "nbformat": 4,
 "nbformat_minor": 2
}
