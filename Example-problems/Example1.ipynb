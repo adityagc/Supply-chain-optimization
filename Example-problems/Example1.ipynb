{
 "cells": [
  {
   "cell_type": "markdown",
   "metadata": {},
   "source": [
    "# Global Sequence MIP Formulation (M1* formulation in paper)"
   ]
  },
  {
   "cell_type": "markdown",
   "metadata": {},
   "source": [
    "## Model Declaration and Data Input (Example 1)"
   ]
  },
  {
   "cell_type": "code",
   "execution_count": 1,
   "metadata": {},
   "outputs": [],
   "source": [
    "from pyomo import environ as pe\n",
    "from math import ceil\n",
    "from matplotlib import pyplot as plt\n",
    "model = pe.ConcreteModel(name='Global Sequence MIP Formulation')"
   ]
  },
  {
   "cell_type": "code",
   "execution_count": 2,
   "metadata": {},
   "outputs": [],
   "source": [
    "data_object = None\n",
    "try:\n",
    "    data_object  = open('Example1.dat', 'w')\n",
    "    data_object.write('''\n",
    "    \n",
    "table I={I} q(I) r(I) d(I):\n",
    "      I     q    r    d   :=\n",
    "      A     30   0    .\n",
    "      B     40   0    .\n",
    "      C     40   0    .;\n",
    "\n",
    "set K := K1 K2;\n",
    "\n",
    "table J={J}  Jk={J,K}  b_min(J)  b_max(J):\n",
    "      J      K         b_min     b_max   :=\n",
    "      J1     K1        10        30\n",
    "      J2     K1        20        40\n",
    "      J3     K2        20        35\n",
    "      J4     K2        25        50;\n",
    "\n",
    "set JF := ;\n",
    "set FP := ;\n",
    "      \n",
    "param tau_F :     J1     J2   J3                      J4 :=\n",
    "            A     2.5    2    0.888888888888888889    2\n",
    "            B     2.5    2    0.888888888888888889    2\n",
    "            C     2.5    2    0.888888888888888889    2;\n",
    "\n",
    "param tau_P :     J1                    J2   J3                       J4 :=\n",
    "            A     0.08333333333333333   0.1  0.08888888888888888889   0.08\n",
    "            B     0.08333333333333333   0.1  0.08888888888888888889   0.08\n",
    "            C     0.08333333333333333   0.1  0.08888888888888888889   0.08;\n",
    "\n",
    "table H := 30;\n",
    "\n",
    "''')\n",
    "finally:\n",
    "    data_object.close()\n",
    "    \n",
    "data = pe.DataPortal()\n",
    "data.load(filename=\"Example1.dat\", model=model)"
   ]
  },
  {
   "cell_type": "markdown",
   "metadata": {},
   "source": [
    "## Set Declaration"
   ]
  },
  {
   "cell_type": "code",
   "execution_count": 3,
   "metadata": {},
   "outputs": [],
   "source": [
    "model.I = pe.Set(initialize=data['I'],ordered=True)\n",
    "model.J = pe.Set(initialize=data['J'],ordered=True)\n",
    "model.K = pe.Set(initialize=data['K'],ordered=True)\n",
    "model.Jk = pe.Set(within=model.J*model.K,initialize=data['Jk'])\n",
    "model.JF = pe.Set(within=model.I*model.J,initialize=data['JF'])\n",
    "model.FP = pe.Set(within=model.J*model.J,initialize=data['FP'])"
   ]
  },
  {
   "cell_type": "markdown",
   "metadata": {},
   "source": [
    "## Special Set: $JA_{ik}$"
   ]
  },
  {
   "cell_type": "code",
   "execution_count": 4,
   "metadata": {},
   "outputs": [],
   "source": [
    "def JAik_rule(model):\n",
    "    tmp=[]\n",
    "    for j in model.J:\n",
    "        for i in model.I:\n",
    "            for k in model.K:\n",
    "                if ((j,k) in model.Jk) and ((i,j) not in model.JF):\n",
    "                    tmp.append((j,i,k))\n",
    "    return tmp\n",
    "model.JAik = pe.Set(within=model.J*model.I*model.K,initialize=JAik_rule)"
   ]
  },
  {
   "cell_type": "code",
   "execution_count": 5,
   "metadata": {},
   "outputs": [
    {
     "name": "stdout",
     "output_type": "stream",
     "text": [
      "JAik : Dim=0, Dimen=3, Size=12, Domain=JAik_domain, Ordered=False, Bounds=None\n",
      "    [('J1', 'A', 'K1'), ('J1', 'B', 'K1'), ('J1', 'C', 'K1'), ('J2', 'A', 'K1'), ('J2', 'B', 'K1'), ('J2', 'C', 'K1'), ('J3', 'A', 'K2'), ('J3', 'B', 'K2'), ('J3', 'C', 'K2'), ('J4', 'A', 'K2'), ('J4', 'B', 'K2'), ('J4', 'C', 'K2')]\n"
     ]
    }
   ],
   "source": [
    "model.JAik.pprint()"
   ]
  },
  {
   "cell_type": "markdown",
   "metadata": {},
   "source": [
    "## Parameters Declaration"
   ]
  },
  {
   "cell_type": "code",
   "execution_count": 6,
   "metadata": {},
   "outputs": [],
   "source": [
    "model.H = pe.Param(initialize=data['H'])\n",
    "model.q = pe.Param(model.I,within=pe.NonNegativeReals,initialize=data['q'])\n",
    "model.r = pe.Param(model.I,within=pe.NonNegativeReals,initialize=data['r'],default=0)\n",
    "model.d = pe.Param(model.I,within=pe.NonNegativeReals,initialize=data['d'],default=model.H)\n",
    "model.b_min = pe.Param(model.J,within=pe.NonNegativeReals,initialize=data['b_min'])\n",
    "model.b_max = pe.Param(model.J,within=pe.NonNegativeReals,initialize=data['b_max'])\n",
    "model.tau_F = pe.Param(model.I,model.J,within=pe.NonNegativeReals,initialize=data['tau_F'])\n",
    "model.tau_P = pe.Param(model.I,model.J,within=pe.NonNegativeReals,initialize=data['tau_P'])"
   ]
  },
  {
   "cell_type": "markdown",
   "metadata": {},
   "source": [
    "## Special Set: $L_i$"
   ]
  },
  {
   "cell_type": "markdown",
   "metadata": {},
   "source": [
    "* (1)\n",
    "* (2)"
   ]
  },
  {
   "cell_type": "code",
   "execution_count": 7,
   "metadata": {},
   "outputs": [],
   "source": [
    "# First, we need to compute for each i, what is the minimum batch size across all stages\n",
    "def bi_min_rule(model,i):\n",
    "    return max(min(model.b_min[j] for j in model.J if (j,i,k) in model.JAik) for k in model.K)\n",
    "model.bi_min = pe.Param(model.I,initialize=bi_min_rule)\n",
    "\n",
    "def bi_max_rule(model,i):\n",
    "    return min(max(model.b_max[j] for j in model.J if (j,i,k) in model.JAik) for k in model.K)\n",
    "model.bi_max = pe.Param(model.I,initialize=bi_max_rule)\n",
    "\n",
    "# Second, we can use demand data, compute upper and lower bound for the number of batches\n",
    "def li_max_rule(model,i):\n",
    "    return ceil(model.q[i]/model.bi_min[i])\n",
    "model.li_max = pe.Param(model.I,initialize=li_max_rule)\n",
    "\n",
    "def li_min_rule(model,i):\n",
    "    return ceil(model.q[i]/model.bi_max[i])\n",
    "model.li_min = pe.Param(model.I,initialize=li_min_rule)\n",
    "\n",
    "# Third, construct the L(i) list\n",
    "def Li_rule(model):\n",
    "    tmp=[]\n",
    "    for i in model.I:\n",
    "        for l in range(1,model.li_max[i]+1):\n",
    "            tmp.append((i,l))\n",
    "    return tmp\n",
    "model.Li = pe.Set(dimen=2,initialize=Li_rule,ordered=True)"
   ]
  },
  {
   "cell_type": "code",
   "execution_count": 8,
   "metadata": {},
   "outputs": [
    {
     "name": "stdout",
     "output_type": "stream",
     "text": [
      "Li : Dim=0, Dimen=2, Size=6, Domain=None, Ordered=Insertion, Bounds=None\n",
      "    [('A', 1), ('A', 2), ('B', 1), ('B', 2), ('C', 1), ('C', 2)]\n"
     ]
    }
   ],
   "source": [
    "model.Li.pprint()"
   ]
  },
  {
   "cell_type": "markdown",
   "metadata": {},
   "source": [
    "## Batching and Assignment Variables Declaration"
   ]
  },
  {
   "cell_type": "code",
   "execution_count": 9,
   "metadata": {},
   "outputs": [],
   "source": [
    "model.B = pe.Var(model.Li,within=pe.NonNegativeReals)\n",
    "model.B_ = pe.Var(model.Li,model.J,within=pe.NonNegativeReals)\n",
    "model.Z = pe.Var(model.Li,within=pe.Binary)\n",
    "model.X = pe.Var(model.Li,model.J,within=pe.Binary)"
   ]
  },
  {
   "cell_type": "markdown",
   "metadata": {},
   "source": [
    "## Batching and Assignment Constraints"
   ]
  },
  {
   "cell_type": "markdown",
   "metadata": {},
   "source": [
    "* (3)"
   ]
  },
  {
   "cell_type": "code",
   "execution_count": 10,
   "metadata": {},
   "outputs": [],
   "source": [
    "def demand_rule(model,i):\n",
    "    return sum(model.B[i_,l] for i_,l in model.Li if i_ == i) >= model.q[i]\n",
    "model.demand_con = pe.Constraint(model.I,rule=demand_rule)"
   ]
  },
  {
   "cell_type": "markdown",
   "metadata": {},
   "source": [
    "* (4) According to paper, becomes obsolete with constraint 5-7"
   ]
  },
  {
   "cell_type": "code",
   "execution_count": 11,
   "metadata": {},
   "outputs": [],
   "source": [
    "def batch_select_rule1(model,i,l):\n",
    "    return model.B[i,l] <= model.bi_max[i]*model.Z[i,l]\n",
    "model.batch_select_con1 = pe.Constraint(model.Li,rule=batch_select_rule1)\n",
    "\n",
    "def batch_select_rule2(model,i,l):\n",
    "    return model.bi_min[i]*model.Z[i,l] <= model.B[i,l]\n",
    "model.batch_select_con2 = pe.Constraint(model.Li,rule=batch_select_rule2)"
   ]
  },
  {
   "cell_type": "markdown",
   "metadata": {},
   "source": [
    "* (5)"
   ]
  },
  {
   "cell_type": "code",
   "execution_count": 12,
   "metadata": {},
   "outputs": [],
   "source": [
    "def unit_select_rule(model,i,l,k):\n",
    "    return model.Z[i,l] == sum(model.X[i,l,j] for j in model.J if (j,i,k) in model.JAik)\n",
    "model.unit_select_con = pe.Constraint(model.Li,model.K,rule=unit_select_rule)"
   ]
  },
  {
   "cell_type": "markdown",
   "metadata": {},
   "source": [
    "* (6)"
   ]
  },
  {
   "cell_type": "code",
   "execution_count": 13,
   "metadata": {},
   "outputs": [],
   "source": [
    "def unit_size_rule(model,i,l,k):\n",
    "    return model.B[i,l] == sum(model.B_[i,l,j] for j in model.J if (j,i,k) in model.JAik)\n",
    "model.unit_size_con = pe.Constraint(model.Li,model.K,rule=unit_size_rule)"
   ]
  },
  {
   "cell_type": "markdown",
   "metadata": {},
   "source": [
    "* (7)"
   ]
  },
  {
   "cell_type": "code",
   "execution_count": 14,
   "metadata": {},
   "outputs": [],
   "source": [
    "def unit_bound_rule1(model,i,l,j):\n",
    "    return model.B_[i,l,j] <= model.b_max[j]*model.X[i,l,j]\n",
    "model.unit_bound_con1 = pe.Constraint(model.Li,model.J,rule=unit_bound_rule1)\n",
    "\n",
    "def unit_bound_rule2(model,i,l,j):\n",
    "    return model.b_min[j]*model.X[i,l,j] <= model.B_[i,l,j]\n",
    "model.unit_bound_con2 = pe.Constraint(model.Li,model.J,rule=unit_bound_rule2)"
   ]
  },
  {
   "cell_type": "markdown",
   "metadata": {},
   "source": [
    "* (8)"
   ]
  },
  {
   "cell_type": "code",
   "execution_count": 15,
   "metadata": {},
   "outputs": [],
   "source": [
    "def batch_order_rule(model,i,l):\n",
    "    if l == ceil(model.q[i]/model.bi_min[i]): return pe.Constraint.Skip\n",
    "    return model.Z[i,l+1] <= model.Z[i,l]\n",
    "model.batch_order_con = pe.Constraint(model.Li,rule=batch_order_rule)"
   ]
  },
  {
   "cell_type": "markdown",
   "metadata": {},
   "source": [
    "## Special Set: $IL$"
   ]
  },
  {
   "cell_type": "code",
   "execution_count": 16,
   "metadata": {},
   "outputs": [],
   "source": [
    "def IL_rule(model):\n",
    "    tmp=[]\n",
    "    for i,l in model.Li:\n",
    "        for i_,l_ in model.Li:\n",
    "            if (i != i_) or (i == i_ and l != l_ ):\n",
    "                tmp.append((i,l,i_,l_))\n",
    "    return tmp\n",
    "model.IL = pe.Set(dimen=4,initialize=IL_rule,ordered=True)"
   ]
  },
  {
   "cell_type": "code",
   "execution_count": 17,
   "metadata": {
    "scrolled": true
   },
   "outputs": [
    {
     "name": "stdout",
     "output_type": "stream",
     "text": [
      "IL : Dim=0, Dimen=4, Size=30, Domain=None, Ordered=Insertion, Bounds=None\n",
      "    [('A', 1, 'A', 2), ('A', 1, 'B', 1), ('A', 1, 'B', 2), ('A', 1, 'C', 1), ('A', 1, 'C', 2), ('A', 2, 'A', 1), ('A', 2, 'B', 1), ('A', 2, 'B', 2), ('A', 2, 'C', 1), ('A', 2, 'C', 2), ('B', 1, 'A', 1), ('B', 1, 'A', 2), ('B', 1, 'B', 2), ('B', 1, 'C', 1), ('B', 1, 'C', 2), ('B', 2, 'A', 1), ('B', 2, 'A', 2), ('B', 2, 'B', 1), ('B', 2, 'C', 1), ('B', 2, 'C', 2), ('C', 1, 'A', 1), ('C', 1, 'A', 2), ('C', 1, 'B', 1), ('C', 1, 'B', 2), ('C', 1, 'C', 2), ('C', 2, 'A', 1), ('C', 2, 'A', 2), ('C', 2, 'B', 1), ('C', 2, 'B', 2), ('C', 2, 'C', 1)]\n"
     ]
    }
   ],
   "source": [
    "model.IL.pprint()"
   ]
  },
  {
   "cell_type": "markdown",
   "metadata": {},
   "source": [
    "## Sequencing and Timing Variables Declaration"
   ]
  },
  {
   "cell_type": "code",
   "execution_count": 18,
   "metadata": {},
   "outputs": [],
   "source": [
    "model.Y = pe.Var(model.IL,model.K,within=pe.Binary)\n",
    "model.T = pe.Var(model.Li,model.K,within=pe.NonNegativeReals)\n",
    "model.LT = pe.Var(model.Li,within=pe.NonNegativeReals)"
   ]
  },
  {
   "cell_type": "markdown",
   "metadata": {},
   "source": [
    "## Sequencing and Timing Constraints"
   ]
  },
  {
   "cell_type": "markdown",
   "metadata": {},
   "source": [
    "* (9)"
   ]
  },
  {
   "cell_type": "code",
   "execution_count": 19,
   "metadata": {},
   "outputs": [],
   "source": [
    "def same_unit_rule(model,i,l,i_,l_,k,j):\n",
    "    if (model.I.ord(i) <= model.I.ord(i_)) and ((j,i,k) in model.JAik) and ((j,i_,k) in model.JAik):\n",
    "        return model.X[i,l,j] + model.X[i_,l_,j] - 1 <= model.Y[i,l,i_,l_,k] + model.Y[i_,l_,i,l,k]\n",
    "    else:\n",
    "        return pe.Constraint.Skip\n",
    "model.same_unit_con = pe.Constraint(model.IL,model.K,model.J,rule=same_unit_rule)"
   ]
  },
  {
   "cell_type": "markdown",
   "metadata": {},
   "source": [
    "* (10)"
   ]
  },
  {
   "cell_type": "code",
   "execution_count": 20,
   "metadata": {},
   "outputs": [],
   "source": [
    "def finish_time_rule(model,i,l,i_,l_,k):\n",
    "    return model.T[i_,l_,k] >= model.T[i,l,k] - model.H*(1-model.Y[i,l,i_,l_,k]) + sum( (model.tau_F[i_,j] \\\n",
    "            *model.X[i_,l_,j] + model.tau_P[i_,j]*model.B_[i_,l_,j]) for j in model.J if (j,i_,k) in model.JAik)\n",
    "model.finish_time_con = pe.Constraint(model.IL,model.K,rule=finish_time_rule)"
   ]
  },
  {
   "cell_type": "markdown",
   "metadata": {},
   "source": [
    "* (11)"
   ]
  },
  {
   "cell_type": "code",
   "execution_count": 21,
   "metadata": {},
   "outputs": [],
   "source": [
    "def between_stages_rule(model,i,l,k):\n",
    "    if model.K.ord(k) == len(model.K): return pe.Constraint.Skip\n",
    "    return model.T[i,l,model.K.next(k)] >= model.T[i,l,k] + sum((model.tau_F[i,j]*model.X[i,l,j] \\\n",
    "             + model.tau_P[i,j]*model.B_[i,l,j]) for j in model.J if (j,i,model.K.next(k)) in model.JAik)\n",
    "model.between_stages_con = pe.Constraint(model.Li,model.K,rule=between_stages_rule)"
   ]
  },
  {
   "cell_type": "markdown",
   "metadata": {},
   "source": [
    "## Additional Constraints"
   ]
  },
  {
   "cell_type": "markdown",
   "metadata": {},
   "source": [
    "* (12) (13)"
   ]
  },
  {
   "cell_type": "code",
   "execution_count": 22,
   "metadata": {},
   "outputs": [],
   "source": [
    "def start_rule(model,i,l,k):\n",
    "    return model.T[i,l,k] >= model.r[i]*model.Z[i,l] + sum( (model.tau_F[i,j]*model.X[i,l,j] \\\n",
    "             + model.tau_P[i,j]*model.B_[i,l,j]) for k_ in model.K if model.K.ord(k_) <= model.K.ord(k) \\\n",
    "                                                           for j in model.J if (j,i,k_) in model.JAik )\n",
    "model.start_con = pe.Constraint(model.Li,model.K,rule=start_rule)\n",
    "\n",
    "def end_rule(model,i,l,k):\n",
    "    return model.T[i,l,k] <= model.d[i]*model.Z[i,l] - sum( (model.tau_F[i,j]*model.X[i,l,j] \\\n",
    "             + model.tau_P[i,j]*model.B_[i,l,j]) for k_ in model.K if model.K.ord(k_) > model.K.ord(k) \\\n",
    "                                                           for j in model.J if (j,i,k_) in model.JAik )\n",
    "model.end_con = pe.Constraint(model.Li,model.K,rule=end_rule)"
   ]
  },
  {
   "cell_type": "markdown",
   "metadata": {},
   "source": [
    "* (14) (15)"
   ]
  },
  {
   "cell_type": "code",
   "execution_count": 23,
   "metadata": {},
   "outputs": [],
   "source": [
    "def forbidden_path_rule(model,i,l,j,j_):\n",
    "    if (j,j_) in model.FP: return model.X[i,l,j] + model.X[i,l,j_] <= model.Z[i,j]\n",
    "    return pe.Constraint.Skip\n",
    "model.forbidden_path_con = pe.Constraint(model.Li,model.J,model.J,rule=forbidden_path_rule)\n",
    "\n",
    "def forbidden_assignment_rule(model,i,l,j):\n",
    "    if (i,j) in model.JF: return model.X[i,l,j] == 0\n",
    "    return pe.Constraint.Skip\n",
    "model.forbidden_assignment_con = pe.Constraint(model.Li,model.J,rule=forbidden_assignment_rule)"
   ]
  },
  {
   "cell_type": "markdown",
   "metadata": {},
   "source": [
    "* (16) (17)"
   ]
  },
  {
   "cell_type": "code",
   "execution_count": 24,
   "metadata": {},
   "outputs": [],
   "source": [
    "def batch_size_sym_rule(model,i,l):\n",
    "    if l == ceil(model.q[i]/model.bi_min[i]): return pe.Constraint.Skip\n",
    "    return model.B[i,l+1] <= model.B[i,l]\n",
    "model.batch_size_sym_con = pe.Constraint(model.Li,rule=batch_size_sym_rule)\n",
    "\n",
    "def Z_force_rule(model,i,l):\n",
    "    if l <= model.li_min[i]: return model.Z[i,l] == 1\n",
    "    return pe.Constraint.Skip\n",
    "model.Z_force_con = pe.Constraint(model.Li)"
   ]
  },
  {
   "cell_type": "markdown",
   "metadata": {},
   "source": [
    "* (18) Not necessary here, all variables are defined without redundency\n",
    "* (19) Already covered in variable declaration\n",
    "\n",
    "- Fix lateness penalty to 0"
   ]
  },
  {
   "cell_type": "code",
   "execution_count": 25,
   "metadata": {},
   "outputs": [],
   "source": [
    "for x in model.LT:\n",
    "    model.LT[x].fix(0)"
   ]
  },
  {
   "cell_type": "markdown",
   "metadata": {},
   "source": [
    "## Objective Function"
   ]
  },
  {
   "cell_type": "markdown",
   "metadata": {},
   "source": [
    "* (23) (24) Minimize Makespan"
   ]
  },
  {
   "cell_type": "code",
   "execution_count": 26,
   "metadata": {},
   "outputs": [],
   "source": [
    "model.MS = pe.Var(within=pe.NonNegativeReals)"
   ]
  },
  {
   "cell_type": "code",
   "execution_count": 27,
   "metadata": {},
   "outputs": [],
   "source": [
    "def makespan_rule(model,i,l):\n",
    "    return model.MS >= model.T[i,l,model.K.last()]\n",
    "model.makespan_con = pe.Constraint(model.Li,rule=makespan_rule)\n",
    "\n",
    "model.obj = pe.Objective(expr=model.MS,sense=pe.minimize)"
   ]
  },
  {
   "cell_type": "markdown",
   "metadata": {},
   "source": [
    "## Solve"
   ]
  },
  {
   "cell_type": "code",
   "execution_count": 28,
   "metadata": {},
   "outputs": [
    {
     "name": "stdout",
     "output_type": "stream",
     "text": [
      "Academic license - for non-commercial use only\n",
      "Changed value of parameter MIPGap to 0.0\n",
      "   Prev: 0.0001  Min: 0.0  Max: 1e+100  Default: 0.0001\n",
      "Parameter mipgap unchanged\n",
      "   Value: 0.0  Min: 0.0  Max: 1e+100  Default: 0.0001\n",
      "Optimize a model with 262 rows, 134 columns and 1099 nonzeros\n",
      "Variable types: 44 continuous, 90 integer (90 binary)\n",
      "Coefficient statistics:\n",
      "  Matrix range     [8e-02, 5e+01]\n",
      "  Objective range  [1e+00, 1e+00]\n",
      "  Bounds range     [1e+00, 1e+00]\n",
      "  RHS range        [1e+00, 4e+01]\n",
      "Presolve removed 34 rows and 10 columns\n",
      "Presolve time: 0.00s\n",
      "Presolved: 228 rows, 124 columns, 945 nonzeros\n",
      "Variable types: 43 continuous, 81 integer (81 binary)\n",
      "Found heuristic solution: objective 21.8888889\n",
      "\n",
      "Root relaxation: objective 6.666667e+00, 112 iterations, 0.00 seconds\n",
      "\n",
      "    Nodes    |    Current Node    |     Objective Bounds      |     Work\n",
      " Expl Unexpl |  Obj  Depth IntInf | Incumbent    BestBd   Gap | It/Node Time\n",
      "\n",
      "     0     0    6.66667    0   27   21.88889    6.66667  69.5%     -    0s\n",
      "H    0     0                      21.7222222    6.66667  69.3%     -    0s\n",
      "H    0     0                      19.6666667    6.66667  66.1%     -    0s\n",
      "H    0     0                      19.4166667    6.66667  65.7%     -    0s\n",
      "H    0     0                      18.0000000    6.66667  63.0%     -    0s\n",
      "H    0     0                      17.1944444    6.66667  61.2%     -    0s\n",
      "     0     0    7.14556    0   42   17.19444    7.14556  58.4%     -    0s\n",
      "H    0     0                      17.0000000    7.14556  58.0%     -    0s\n",
      "     0     0    7.46570    0   52   17.00000    7.46570  56.1%     -    0s\n",
      "H    0     0                      16.6666667    7.46570  55.2%     -    0s\n",
      "     0     0    7.46693    0   48   16.66667    7.46693  55.2%     -    0s\n",
      "H    0     0                      16.2000000    7.46693  53.9%     -    0s\n",
      "H    0     0                      16.0000000    7.46693  53.3%     -    0s\n",
      "H    0     0                      15.6000000    7.46693  52.1%     -    0s\n",
      "     0     0    7.47988    0   45   15.60000    7.47988  52.1%     -    0s\n",
      "     0     0    7.48017    0   49   15.60000    7.48017  52.1%     -    0s\n",
      "     0     0    7.48017    0   54   15.60000    7.48017  52.1%     -    0s\n",
      "H    0     0                      15.5833333    7.48017  52.0%     -    0s\n",
      "H    0     0                      15.2000000    7.48017  50.8%     -    0s\n",
      "     0     0    7.56850    0   49   15.20000    7.56850  50.2%     -    0s\n",
      "H    0     0                      15.1666667    7.56850  50.1%     -    0s\n",
      "     0     0    7.57913    0   44   15.16667    7.57913  50.0%     -    0s\n",
      "     0     0    7.57916    0   48   15.16667    7.57916  50.0%     -    0s\n",
      "     0     0    7.58017    0   42   15.16667    7.58017  50.0%     -    0s\n",
      "     0     0    7.58017    0   48   15.16667    7.58017  50.0%     -    0s\n",
      "     0     0    7.58330    0   49   15.16667    7.58330  50.0%     -    0s\n",
      "     0     0    7.58330    0   50   15.16667    7.58330  50.0%     -    0s\n",
      "     0     0    7.60519    0   43   15.16667    7.60519  49.9%     -    0s\n",
      "H    0     0                      14.6666667    7.60519  48.1%     -    0s\n",
      "     0     0    7.63354    0   52   14.66667    7.63354  48.0%     -    0s\n",
      "     0     0    7.63872    0   54   14.66667    7.63872  47.9%     -    0s\n",
      "     0     0    7.63917    0   59   14.66667    7.63917  47.9%     -    0s\n",
      "     0     0    7.63917    0   58   14.66667    7.63917  47.9%     -    0s\n",
      "     0     0    7.69444    0   58   14.66667    7.69444  47.5%     -    0s\n",
      "     0     0    7.69444    0   58   14.66667    7.69444  47.5%     -    0s\n",
      "     0     0    8.50000    0   42   14.66667    8.50000  42.0%     -    0s\n",
      "     0     0    8.50000    0   34   14.66667    8.50000  42.0%     -    0s\n",
      "     0     2    8.50000    0   34   14.66667    8.50000  42.0%     -    0s\n",
      "* 1116   288              12      14.5000000    9.94444  31.4%   7.8    0s\n",
      "\n",
      "Cutting planes:\n",
      "  Gomory: 13\n",
      "  Cover: 25\n",
      "  Implied bound: 12\n",
      "  Clique: 2\n",
      "  MIR: 49\n",
      "  Flow cover: 35\n",
      "  Inf proof: 80\n",
      "  Zero half: 6\n",
      "\n",
      "Explored 6624 nodes (41717 simplex iterations) in 0.51 seconds\n",
      "Thread count was 8 (of 8 available processors)\n",
      "\n",
      "Solution count 10: 14.5 14.6667 15.1667 ... 17\n",
      "\n",
      "Optimal solution found (tolerance 0.00e+00)\n",
      "Best objective 1.450000000000e+01, best bound 1.450000000000e+01, gap 0.0000%\n"
     ]
    }
   ],
   "source": [
    "opt = pe.SolverFactory('gurobi')\n",
    "opt.options['mipgap'] = 0\n",
    "opt.solve(model,tee=True);"
   ]
  },
  {
   "cell_type": "markdown",
   "metadata": {},
   "source": [
    "## Result Interpretation (Example 1b)"
   ]
  },
  {
   "cell_type": "code",
   "execution_count": 29,
   "metadata": {},
   "outputs": [
    {
     "name": "stdout",
     "output_type": "stream",
     "text": [
      "------------------------------------------------------------------------------------------\n",
      "Objective MS = 14.5\n",
      "------------------------------------------------------------------------------------------\n",
      "Stage: K1\n",
      "Units\tProd\tBatch\t\tProduction\tFinish Time\n",
      "J1 \t A \t 1 \t\t30.0\t\t5.0\n",
      "J1 \t B \t 1 \t\t20.0\t\t9.2\n",
      "J2 \t B \t 2 \t\t20.0\t\t11.8\n",
      "J2 \t C \t 1 \t\t40.0\t\t6.0\n",
      "------------------------------------------------------------------------------------------\n",
      "Stage: K2\n",
      "Units\tProd\tBatch\t\tProduction\tFinish Time\n",
      "J3 \t A \t 1 \t\t30.0\t\t8.6\n",
      "J3 \t B \t 1 \t\t20.0\t\t11.8\n",
      "J3 \t B \t 2 \t\t20.0\t\t14.5\n",
      "J4 \t C \t 1 \t\t40.0\t\t11.2\n"
     ]
    }
   ],
   "source": [
    "print('-'*90)\n",
    "print('Objective MS = {:.1f}'.format(model.obj()))\n",
    "for k in model.K:\n",
    "    print('-'*90)\n",
    "    print('Stage:',k)\n",
    "    print('Units\\tProd\\tBatch\\t\\tProduction\\tFinish Time')\n",
    "    for i,l,j in model.X:\n",
    "        if (j,k) in model.Jk and model.X[i,l,j] != 0:\n",
    "            print(j,'\\t',i,'\\t',l,'\\t\\t{:.1f}\\t\\t{:.1f}'.format(model.B_[i,l,j].value,model.T[i,l,k].value))"
   ]
  },
  {
   "cell_type": "markdown",
   "metadata": {},
   "source": [
    "## Now we fix Batch Size (Example 1a - Simulate Sequential Approach)"
   ]
  },
  {
   "cell_type": "code",
   "execution_count": 30,
   "metadata": {},
   "outputs": [],
   "source": [
    "model.B['A',1].fix(30)\n",
    "model.B['B',1].fix(40)\n",
    "model.B['C',1].fix(40)"
   ]
  },
  {
   "cell_type": "code",
   "execution_count": 31,
   "metadata": {},
   "outputs": [],
   "source": [
    "opt.solve(model,tee=False);"
   ]
  },
  {
   "cell_type": "code",
   "execution_count": 32,
   "metadata": {},
   "outputs": [
    {
     "name": "stdout",
     "output_type": "stream",
     "text": [
      "------------------------------------------------------------------------------------------\n",
      "Objective MS = 17.2\n",
      "------------------------------------------------------------------------------------------\n",
      "Stage: K1\n",
      "Units\tProd\tBatch\t\tProduction\tFinish Time\n",
      "J1 \t A \t 1 \t\t30.0\t\t5.0\n",
      "J2 \t B \t 1 \t\t40.0\t\t12.0\n",
      "J2 \t C \t 1 \t\t40.0\t\t6.0\n",
      "------------------------------------------------------------------------------------------\n",
      "Stage: K2\n",
      "Units\tProd\tBatch\t\tProduction\tFinish Time\n",
      "J3 \t A \t 1 \t\t30.0\t\t8.6\n",
      "J4 \t B \t 1 \t\t40.0\t\t17.2\n",
      "J4 \t C \t 1 \t\t40.0\t\t11.2\n"
     ]
    }
   ],
   "source": [
    "print('-'*90)\n",
    "print('Objective MS = {:.1f}'.format(model.obj()))\n",
    "for k in model.K:\n",
    "    print('-'*90)\n",
    "    print('Stage:',k)\n",
    "    print('Units\\tProd\\tBatch\\t\\tProduction\\tFinish Time')\n",
    "    for i,l,j in model.X:\n",
    "        if (j,k) in model.Jk and model.X[i,l,j] != 0:\n",
    "            print(j,'\\t',i,'\\t',l,'\\t\\t{:.1f}\\t\\t{:.1f}'.format(model.B_[i,l,j].value,model.T[i,l,k].value))"
   ]
  },
  {
   "cell_type": "code",
   "execution_count": 33,
   "metadata": {},
   "outputs": [
    {
     "data": {
      "image/png": "[encoded data removed]",
      "text/plain": [
       "<matplotlib.figure.Figure at 0x1222505c0>"
      ]
     },
     "metadata": {},
     "output_type": "display_data"
    }
   ],
   "source": [
    "model.B['A',1].fixed=False\n",
    "model.B['B',1].fixed=False\n",
    "model.B['C',1].fixed=False\n",
    "\n",
    "opt.solve(model,tee=False)\n",
    "\n",
    "fig = plt.figure(figsize=(16,9))\n",
    "ax = fig.add_subplot(111)\n",
    "for k in model.K:\n",
    "    for i,l,j in model.X:\n",
    "        if (j,k) in model.Jk and model.X[i,l,j] != 0:\n",
    "            rect = ax.barh(model.J.ord(j), (model.tau_F[i,j]+model.tau_P[i,j]*model.B_[i,l,j].value), 0.3, left=model.T[i,l,k].value - (model.tau_F[i,j]+model.tau_P[i,j]*model.B_[i,l,j].value), align='center', color='None',linestyle='-', edgecolor='Red',linewidth = 3)\n",
    "            xloc = rect[0].get_x() + rect[-1].get_width()/2.0; yloc = rect[-1].get_y() + rect[-1].get_height()/2.0\n",
    "            ax.text(xloc, yloc, '{},{},{:.0f}'.format(i,l,model.B_[i,l,j].value), horizontalalignment='center',verticalalignment='center', color='Black',clip_on=True,fontsize=18)\n",
    "\n",
    "model.B['A',1].fix(30)\n",
    "model.B['B',1].fix(40)\n",
    "model.B['C',1].fix(40)\n",
    "opt.solve(model,tee=False);\n",
    "\n",
    "for k in model.K:\n",
    "    for i,l,j in model.X:\n",
    "        if (j,k) in model.Jk and model.X[i,l,j] != 0:\n",
    "            rect = ax.barh(model.J.ord(j)-0.5, (model.tau_F[i,j]+model.tau_P[i,j]*model.B_[i,l,j].value), 0.3, left=model.T[i,l,k].value - (model.tau_F[i,j]+model.tau_P[i,j]*model.B_[i,l,j].value), align='center', color='None',linestyle='--', edgecolor='Black',linewidth = 1)\n",
    "            xloc = rect[0].get_x() + rect[-1].get_width()/2.0; yloc = rect[-1].get_y() + rect[-1].get_height()/2.0\n",
    "            ax.text(xloc, yloc, '{},{},{:.0f}'.format(i,l,model.B_[i,l,j].value), horizontalalignment='center',verticalalignment='center', color='Black',clip_on=True,fontsize=18)\n",
    "\n",
    "            \n",
    "            \n",
    "            \n",
    "ax.invert_yaxis()\n",
    "ax.set_yticklabels([1,'J1','J1','J2','J2','J3','J3','J4'],fontsize=18)\n",
    "ax.tick_params(axis='both', which='major', labelsize=18)\n",
    "plt.ylabel('Unit',fontsize=18)\n",
    "plt.xlabel('Time (h)',fontsize=18)\n",
    "plt.title('Red: Simultanuous Optimization\\nBlack: Sequential Optimization',fontsize=14)\n",
    "plt.show()"
   ]
  },
  {
   "cell_type": "code",
   "execution_count": null,
   "metadata": {},
   "outputs": [],
   "source": []
  }
 ],
 "metadata": {
  "kernelspec": {
   "display_name": "Python 3",
   "language": "python",
   "name": "python3"
  },
  "language_info": {
   "codemirror_mode": {
    "name": "ipython",
    "version": 3
   },
   "file_extension": ".py",
   "mimetype": "text/x-python",
   "name": "python",
   "nbconvert_exporter": "python",
   "pygments_lexer": "ipython3",
   "version": "3.6.3"
  }
 },
 "nbformat": 4,
 "nbformat_minor": 2
}
